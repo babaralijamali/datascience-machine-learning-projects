{
 "cells": [
  {
   "cell_type": "markdown",
   "id": "bb73ed8d",
   "metadata": {},
   "source": [
    "# Often times, you may need to place matplotlib charts on a tkinter GUI. This feature is especially useful for users who deal with front-end GUIs.\n",
    "\n",
    "Firstly, you’ll need to prepare the datasets to be used as the input for the charts.\n",
    "\n",
    "For illustration purposes, I created the following 3 datasets for our charts:\n",
    "\n",
    "Data for the Bar Chart:\n",
    "\n",
    "Country\tGDP_Per_Capita\n",
    "US\t45000\n",
    "CA\t42000\n",
    "GER\t52000\n",
    "UK\t49000\n",
    "FR\t47000\n",
    "\n",
    "================\n",
    "\n",
    "Data for the Line Chart\n",
    "Year\tUnemployment_Rate\n",
    "1920\t9.8\n",
    "1930\t12\n",
    "1940\t8\n",
    "1950\t7.2\n",
    "1960\t6.9\n",
    "1970\t7\n",
    "1980\t6.5\n",
    "1990\t6.2\n",
    "2000\t5.5\n",
    "2010\t6.3\n",
    "\n",
    "================\n",
    "\n",
    "Data for the Scatter Diagram\n",
    "Interest_Rate\tStock_Index_Price\n",
    "5\t1500\n",
    "5.5\t1520\n",
    "6\t1525\n",
    "5.5\t1523\n",
    "5.25\t1515\n",
    "6.5\t1540\n",
    "7\t1545\n",
    "8\t1560\n",
    "7.5\t1555\n",
    "8.5\t1565\n"
   ]
  },
  {
   "cell_type": "markdown",
   "id": "c67fc326",
   "metadata": {},
   "source": [
    "# Step 2: Create the DataFrames in Python \n",
    "# Next, you may utilize pandas DataFrame to capture the above data in Python."
   ]
  },
  {
   "cell_type": "markdown",
   "id": "966bf55b",
   "metadata": {},
   "source": [
    "from pandas import DataFrame\n",
    "\n",
    "data = {'First Column Name': ['First value', 'Second value',…],\n",
    "        'Second Column Name': ['First value', 'Second value',…],\n",
    "         …\n",
    "        }\n",
    "df = DataFrame(data, columns = ['First Column Name','Second Column Name',…])"
   ]
  },
  {
   "cell_type": "code",
   "execution_count": 2,
   "id": "a2d3193d",
   "metadata": {},
   "outputs": [
    {
     "name": "stdout",
     "output_type": "stream",
     "text": [
      "  Country  GDP_Per_Capita\n",
      "0      US           45000\n",
      "1      CA           42000\n",
      "2     GER           52000\n",
      "3      UK           49000\n",
      "4      FR           47000\n",
      "   Year  Unemployment_Rate\n",
      "0  1920                9.8\n",
      "1  1930               12.0\n",
      "2  1940                8.0\n",
      "3  1950                7.2\n",
      "4  1960                6.9\n",
      "5  1970                7.0\n",
      "6  1980                6.5\n",
      "7  1990                6.2\n",
      "8  2000                5.5\n",
      "9  2010                6.3\n",
      "   Interest_Rate  Stock_Index_Price\n",
      "0           5.00               1500\n",
      "1           5.50               1520\n",
      "2           6.00               1525\n",
      "3           5.50               1523\n",
      "4           5.25               1515\n",
      "5           6.50               1540\n",
      "6           7.00               1545\n",
      "7           8.00               1560\n",
      "8           7.50               1555\n",
      "9           8.50               1565\n"
     ]
    }
   ],
   "source": [
    "from pandas import DataFrame\n",
    " \n",
    "data1 = {'Country': ['US','CA','GER','UK','FR'],\n",
    "         'GDP_Per_Capita': [45000,42000,52000,49000,47000]\n",
    "        }\n",
    "df1 = DataFrame(data1,columns=['Country','GDP_Per_Capita'])\n",
    "print (df1)\n",
    "\n",
    "\n",
    "data2 = {'Year': [1920,1930,1940,1950,1960,1970,1980,1990,2000,2010],\n",
    "         'Unemployment_Rate': [9.8,12,8,7.2,6.9,7,6.5,6.2,5.5,6.3]\n",
    "        }  \n",
    "df2 = DataFrame(data2,columns=['Year','Unemployment_Rate'])\n",
    "print (df2)\n",
    "\n",
    "\n",
    "data3 = {'Interest_Rate': [5,5.5,6,5.5,5.25,6.5,7,8,7.5,8.5],\n",
    "         'Stock_Index_Price': [1500,1520,1525,1523,1515,1540,1545,1560,1555,1565]\n",
    "        }\n",
    "df3 = DataFrame(data3,columns=['Interest_Rate','Stock_Index_Price'])\n",
    "print (df3)"
   ]
  },
  {
   "cell_type": "markdown",
   "id": "31ebf99c",
   "metadata": {},
   "source": [
    "# Step 3: Create the GUI\n",
    "To begin, you’ll need to import the tkinter and matplotlib modules as follows:"
   ]
  },
  {
   "cell_type": "code",
   "execution_count": 3,
   "id": "1c8ee278",
   "metadata": {},
   "outputs": [],
   "source": [
    "import tkinter as tk\n",
    "import matplotlib.pyplot as plt\n",
    "from matplotlib.backends.backend_tkagg import FigureCanvasTkAgg"
   ]
  },
  {
   "cell_type": "markdown",
   "id": "35555e2f",
   "metadata": {},
   "source": [
    "# Then, add the charts to the GUI by using this generic template:"
   ]
  },
  {
   "cell_type": "code",
   "execution_count": 5,
   "id": "e9aa0709",
   "metadata": {},
   "outputs": [],
   "source": [
    "import tkinter as tk\n",
    "from pandas import DataFrame\n",
    "import matplotlib.pyplot as plt\n",
    "from matplotlib.backends.backend_tkagg import FigureCanvasTkAgg\n",
    "\n",
    "data1 = {'Country': ['US','CA','GER','UK','FR'],\n",
    "         'GDP_Per_Capita': [45000,42000,52000,49000,47000]\n",
    "        }\n",
    "df1 = DataFrame(data1,columns=['Country','GDP_Per_Capita'])\n",
    "\n",
    "\n",
    "data2 = {'Year': [1920,1930,1940,1950,1960,1970,1980,1990,2000,2010],\n",
    "         'Unemployment_Rate': [9.8,12,8,7.2,6.9,7,6.5,6.2,5.5,6.3]\n",
    "        }\n",
    "df2 = DataFrame(data2,columns=['Year','Unemployment_Rate'])\n",
    "\n",
    "\n",
    "data3 = {'Interest_Rate': [5,5.5,6,5.5,5.25,6.5,7,8,7.5,8.5],\n",
    "         'Stock_Index_Price': [1500,1520,1525,1523,1515,1540,1545,1560,1555,1565]\n",
    "        }  \n",
    "df3 = DataFrame(data3,columns=['Interest_Rate','Stock_Index_Price'])\n",
    " \n",
    "\n",
    "root= tk.Tk() \n",
    "  \n",
    "figure1 = plt.Figure(figsize=(6,5), dpi=100)\n",
    "ax1 = figure1.add_subplot(111)\n",
    "bar1 = FigureCanvasTkAgg(figure1, root)\n",
    "bar1.get_tk_widget().pack(side=tk.LEFT, fill=tk.BOTH)\n",
    "df1 = df1[['Country','GDP_Per_Capita']].groupby('Country').sum()\n",
    "df1.plot(kind='bar', legend=True, ax=ax1)\n",
    "ax1.set_title('Country Vs. GDP Per Capita')\n",
    "\n",
    "figure2 = plt.Figure(figsize=(5,4), dpi=100)\n",
    "ax2 = figure2.add_subplot(111)\n",
    "line2 = FigureCanvasTkAgg(figure2, root)\n",
    "line2.get_tk_widget().pack(side=tk.LEFT, fill=tk.BOTH)\n",
    "df2 = df2[['Year','Unemployment_Rate']].groupby('Year').sum()\n",
    "df2.plot(kind='line', legend=True, ax=ax2, color='r',marker='o', fontsize=10)\n",
    "ax2.set_title('Year Vs. Unemployment Rate')\n",
    "\n",
    "figure3 = plt.Figure(figsize=(5,4), dpi=100)\n",
    "ax3 = figure3.add_subplot(111)\n",
    "ax3.scatter(df3['Interest_Rate'],df3['Stock_Index_Price'], color = 'g')\n",
    "scatter3 = FigureCanvasTkAgg(figure3, root) \n",
    "scatter3.get_tk_widget().pack(side=tk.LEFT, fill=tk.BOTH)\n",
    "ax3.legend(['Stock_Index_Price']) \n",
    "ax3.set_xlabel('Interest Rate')\n",
    "ax3.set_title('Interest Rate Vs. Stock Index Price')\n",
    "\n",
    "root.mainloop()"
   ]
  },
  {
   "cell_type": "code",
   "execution_count": null,
   "id": "e046782f",
   "metadata": {},
   "outputs": [],
   "source": []
  }
 ],
 "metadata": {
  "kernelspec": {
   "display_name": "Python 3 (ipykernel)",
   "language": "python",
   "name": "python3"
  },
  "language_info": {
   "codemirror_mode": {
    "name": "ipython",
    "version": 3
   },
   "file_extension": ".py",
   "mimetype": "text/x-python",
   "name": "python",
   "nbconvert_exporter": "python",
   "pygments_lexer": "ipython3",
   "version": "3.9.7"
  }
 },
 "nbformat": 4,
 "nbformat_minor": 5
}
