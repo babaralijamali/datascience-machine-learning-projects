{
 "cells": [
  {
   "cell_type": "markdown",
   "id": "135549a0",
   "metadata": {},
   "source": [
    "# About Linear Regression\n",
    "Linear regression is used as a predictive model that assumes a linear relationship between the dependent variable (which is the variable we are trying to predict/estimate) and the independent variable/s (input variable/s used in the prediction).\n",
    "\n",
    "Under Simple Linear Regression, only one independent/input variable is used to predict the dependent variable. It has the following structure:"
   ]
  },
  {
   "cell_type": "markdown",
   "id": "489dff6c",
   "metadata": {},
   "source": [
    "# Y = C + M*X\n",
    "\n",
    "Y = Dependent variable (output/outcome/prediction/estimation)\n",
    "C = Constant (Y-Intercept)\n",
    "M = Slope of the regression line (the effect that X has on Y)\n",
    "X = Independent variable (input variable used in the prediction of Y)\n",
    "\n",
    "In reality, a relationship may exist between the dependent variable and multiple independent variables. For these types of models (assuming linearity), we can use Multiple Linear Regression with the following structure:\n",
    "\n",
    "# Y = C + M1*X1 + M2*X2 + …"
   ]
  },
  {
   "cell_type": "markdown",
   "id": "51a864fe",
   "metadata": {},
   "source": [
    "# An Example (with the Dataset to be used)\n",
    "For illustration purposes, let’s suppose that you have a fictitious economy with the following parameters:\n",
    "\n",
    "\n",
    "<img src=\"https://datatofish.com/wp-content/uploads/2018/04/001_statsmodels.png\">\n"
   ]
  },
  {
   "cell_type": "markdown",
   "id": "065587a7",
   "metadata": {},
   "source": [
    "# The Python Code using Statsmodels\n",
    "The following Python code includes an example of Multiple Linear Regression, where the input variables are:\n",
    "\n",
    "-Interest_Rate\n",
    "-Unemployment_Rate\n",
    "\n",
    "These two variables are used in the prediction of the dependent variable of Stock_Index_Price."
   ]
  },
  {
   "cell_type": "code",
   "execution_count": 1,
   "id": "856ad90d",
   "metadata": {
    "scrolled": true
   },
   "outputs": [
    {
     "name": "stderr",
     "output_type": "stream",
     "text": [
      "C:\\Anaconda3\\lib\\site-packages\\statsmodels\\tsa\\base\\tsa_model.py:7: FutureWarning: pandas.Int64Index is deprecated and will be removed from pandas in a future version. Use pandas.Index with the appropriate dtype instead.\n",
      "  from pandas import (to_datetime, Int64Index, DatetimeIndex, Period,\n",
      "C:\\Anaconda3\\lib\\site-packages\\statsmodels\\tsa\\base\\tsa_model.py:7: FutureWarning: pandas.Float64Index is deprecated and will be removed from pandas in a future version. Use pandas.Index with the appropriate dtype instead.\n",
      "  from pandas import (to_datetime, Int64Index, DatetimeIndex, Period,\n",
      "C:\\Anaconda3\\lib\\site-packages\\statsmodels\\tsa\\tsatools.py:142: FutureWarning: In a future version of pandas all arguments of concat except for the argument 'objs' will be keyword-only.\n",
      "  x = pd.concat(x[::order], 1)\n"
     ]
    },
    {
     "name": "stdout",
     "output_type": "stream",
     "text": [
      "                            OLS Regression Results                            \n",
      "==============================================================================\n",
      "Dep. Variable:      Stock_Index_Price   R-squared:                       0.898\n",
      "Model:                            OLS   Adj. R-squared:                  0.888\n",
      "Method:                 Least Squares   F-statistic:                     92.07\n",
      "Date:                Tue, 05 Jul 2022   Prob (F-statistic):           4.04e-11\n",
      "Time:                        22:50:02   Log-Likelihood:                -134.61\n",
      "No. Observations:                  24   AIC:                             275.2\n",
      "Df Residuals:                      21   BIC:                             278.8\n",
      "Df Model:                           2                                         \n",
      "Covariance Type:            nonrobust                                         \n",
      "=====================================================================================\n",
      "                        coef    std err          t      P>|t|      [0.025      0.975]\n",
      "-------------------------------------------------------------------------------------\n",
      "const              1798.4040    899.248      2.000      0.059     -71.685    3668.493\n",
      "Interest_Rate       345.5401    111.367      3.103      0.005     113.940     577.140\n",
      "Unemployment_Rate  -250.1466    117.950     -2.121      0.046    -495.437      -4.856\n",
      "==============================================================================\n",
      "Omnibus:                        2.691   Durbin-Watson:                   0.530\n",
      "Prob(Omnibus):                  0.260   Jarque-Bera (JB):                1.551\n",
      "Skew:                          -0.612   Prob(JB):                        0.461\n",
      "Kurtosis:                       3.226   Cond. No.                         394.\n",
      "==============================================================================\n",
      "\n",
      "Notes:\n",
      "[1] Standard Errors assume that the covariance matrix of the errors is correctly specified.\n"
     ]
    }
   ],
   "source": [
    "from pandas import DataFrame\n",
    "import statsmodels.api as sm\n",
    "\n",
    "Stock_Market = {'Year': [2017,2017,2017,2017,2017,2017,2017,2017,2017,2017,2017,2017,2016,2016,2016,2016,2016,2016,2016,2016,2016,2016,2016,2016],\n",
    "                'Month': [12, 11,10,9,8,7,6,5,4,3,2,1,12,11,10,9,8,7,6,5,4,3,2,1],\n",
    "                'Interest_Rate': [2.75,2.5,2.5,2.5,2.5,2.5,2.5,2.25,2.25,2.25,2,2,2,1.75,1.75,1.75,1.75,1.75,1.75,1.75,1.75,1.75,1.75,1.75],\n",
    "                'Unemployment_Rate': [5.3,5.3,5.3,5.3,5.4,5.6,5.5,5.5,5.5,5.6,5.7,5.9,6,5.9,5.8,6.1,6.2,6.1,6.1,6.1,5.9,6.2,6.2,6.1],\n",
    "                'Stock_Index_Price': [1464,1394,1357,1293,1256,1254,1234,1195,1159,1167,1130,1075,1047,965,943,958,971,949,884,866,876,822,704,719]        \n",
    "                }\n",
    "\n",
    "df = DataFrame(Stock_Market,columns=['Year','Month','Interest_Rate','Unemployment_Rate','Stock_Index_Price']) \n",
    "\n",
    "X = df[['Interest_Rate','Unemployment_Rate']] # here we have 2 variables for the multiple linear regression. If you just want to use one variable for simple linear regression, then use X = df['Interest_Rate'] for example\n",
    "Y = df['Stock_Index_Price']\n",
    "\n",
    "X = sm.add_constant(X) # adding a constant\n",
    "\n",
    "model = sm.OLS(Y, X).fit()\n",
    "predictions = model.predict(X) \n",
    "\n",
    "print_model = model.summary()\n",
    "print(print_model)"
   ]
  },
  {
   "cell_type": "markdown",
   "id": "22b9c92e",
   "metadata": {},
   "source": [
    "# This is the result that you’ll get once you run the Python code:\n",
    "    \n",
    "<img src=\"https://datatofish.com/wp-content/uploads/2018/04/00A_statsmodels.png\">"
   ]
  },
  {
   "cell_type": "markdown",
   "id": "480c56dd",
   "metadata": {},
   "source": [
    "# Interpreting the Regression Results\n",
    "I highlighted several important components within the results:\n",
    "1. <b>Adjusted. R-squared</b> reflects the fit of the model. R-squared values range from 0 to 1, where a higher value generally indicates a better fit, assuming certain conditions are met.\n",
    "\n",
    "2. <b>const coefficient</b> is your Y-intercept. It means that if both the Interest_Rate and Unemployment_Rate coefficients are zero, then the expected output (i.e., the Y) would be equal to the const coefficient.\n",
    "\n",
    "3. <b>Interest_Rate coefficient</b> represents the change in the output Y due to a change of one unit in the interest rate (everything else held constant)\n",
    "\n",
    "4. <b>Unemployment_Rate coefficient</b> represents the change in the output Y due to a change of one unit in the unemployment rate (everything else held constant)\n",
    "\n",
    "5. <b>std err</b> reflects the level of accuracy of the coefficients. The lower it is, the higher is the level of accuracy\n",
    "\n",
    "6. <b>P >|t|</b> is your p-value. A p-value of less than 0.05 is considered to be statistically significant\n",
    "\n",
    "7. <b>Confidence Interval</b> represents the range in which our coefficients are likely to fall (with a likelihood of 95%)"
   ]
  },
  {
   "cell_type": "markdown",
   "id": "9a325d34",
   "metadata": {},
   "source": [
    "# Making Predictions based on the Regression Results\n",
    "Recall that the equation for the Multiple Linear Regression is:\n",
    "\n",
    "<b>Y = C + M1*X1 + M2*X2 + … </b>\n",
    "\n",
    "So for our example, it would look like this:\n",
    "\n",
    "<b>Stock_Index_Price = (const coef) + (Interest_Rate coef)*X1 + (Unemployment_Rate coef)*X2</b>\n",
    "\n",
    "And this is how the equation would look like once we plug the coefficients:\n",
    "\n",
    "<b>Stock_Index_Price = (1798.4040) + (345.5401)*X1 + (-250.1466)*X2</b>\n",
    "\n"
   ]
  },
  {
   "cell_type": "markdown",
   "id": "26d24ea3",
   "metadata": {},
   "source": [
    "# Let’s suppose that you want to predict the stock index price, where you just collected the following values for the first month of 2018:\n",
    "\n",
    "<b>Interest Rate = 2.75 (i.e., X1= 2.75)<br>\n",
    "Unemployment Rate = 5.3 (i.e., X2= 5.3)</b>\n",
    "<br>\n",
    "\n",
    "When you plug those numbers you’ll get:\n",
    "\n",
    "<b>Stock_Index_Price = (1798.4040) + (345.5401)*X1 + (-250.1466)*X2</b> <br>\n",
    "<b>Stock_Index_Price = (1798.4040) + (345.5401)*(2.75) + (-250.1466)*(5.3) = 1422.86</b>"
   ]
  },
  {
   "cell_type": "markdown",
   "id": "c5708398",
   "metadata": {},
   "source": [
    "# The predicted/estimated value for the Stock_Index_Price in January 2018 is therefore 1422.86.\n",
    "\n",
    "The predicted value can eventually be compared with the actual value to check the level of accuracy. If, for example, the actual stock index price for that month turned out to be 1435, then the prediction would be off by <b>1435 – 1422.86 = 12.14</b>\n",
    "\n",
    "Disclaimer: this example should not be used as a predictive model for the stock market. It was based on a fictitious economy for illustration purposes only."
   ]
  },
  {
   "cell_type": "code",
   "execution_count": null,
   "id": "49ea7510",
   "metadata": {},
   "outputs": [],
   "source": []
  }
 ],
 "metadata": {
  "kernelspec": {
   "display_name": "Python 3 (ipykernel)",
   "language": "python",
   "name": "python3"
  },
  "language_info": {
   "codemirror_mode": {
    "name": "ipython",
    "version": 3
   },
   "file_extension": ".py",
   "mimetype": "text/x-python",
   "name": "python",
   "nbconvert_exporter": "python",
   "pygments_lexer": "ipython3",
   "version": "3.9.7"
  }
 },
 "nbformat": 4,
 "nbformat_minor": 5
}
