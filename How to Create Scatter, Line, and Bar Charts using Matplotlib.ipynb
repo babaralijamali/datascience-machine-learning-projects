{
 "cells": [
  {
   "cell_type": "markdown",
   "id": "9bc96b20",
   "metadata": {},
   "source": [
    "# Matplotlib is a popular Python module that can be used to create charts. In this guide, I’ll show you how to create Scatter, Line and Bar charts using matplotlib.\n",
    "\n",
    "But before we begin, here is the general syntax that you may use to create your charts using matplotlib:"
   ]
  },
  {
   "cell_type": "markdown",
   "id": "e2918ec1",
   "metadata": {},
   "source": [
    "# How to Create Scatter Plots using Matplotlib"
   ]
  },
  {
   "cell_type": "markdown",
   "id": "7c618324",
   "metadata": {},
   "source": [
    "# Scatter plots are used to depict a relationship between two variables.\n",
    "\n",
    "For example, let’s say that you want to depict the relationship between:\n",
    "\n",
    "<b>The Unemployment Rate; and <b><br>\n",
    "<b>The Stock Index Price<b><br><br>"
   ]
  },
  {
   "cell_type": "markdown",
   "id": "423a8671",
   "metadata": {},
   "source": [
    "# Here is the dataset associated with those two variables:\n",
    "    \n",
    "Unemployment_Rate\tStock_Index_Price\n",
    "6.1\t1500\n",
    "5.8\t1520\n",
    "5.7\t1525\n",
    "5.7\t1523\n",
    "5.8\t1515\n",
    "5.6\t1540\n",
    "5.5\t1545\n",
    "5.3\t1560\n",
    "5.2\t1555\n",
    "5.2\t1565"
   ]
  },
  {
   "cell_type": "markdown",
   "id": "70560400",
   "metadata": {},
   "source": [
    "# Before you plot that data, you’ll need to capture it in Python. I’ll use 2 different approaches to capture the data in Python via:\n",
    "\n",
    "<b>Lists<br>\n",
    "<b>Pandas DataFrame"
   ]
  },
  {
   "cell_type": "markdown",
   "id": "148195d1",
   "metadata": {},
   "source": [
    "# Create Scatter Plot using Lists\n",
    "You can create simple lists, which will contain the values for the Unemployment Rate and the Stock Index Price:"
   ]
  },
  {
   "cell_type": "code",
   "execution_count": 1,
   "id": "6d0259c2",
   "metadata": {},
   "outputs": [],
   "source": [
    "Unemployment_Rate = [6.1,5.8,5.7,5.7,5.8,5.6,5.5,5.3,5.2,5.2]\n",
    "Stock_Index_Price = [1500,1520,1525,1523,1515,1540,1545,1560,1555,1565]"
   ]
  },
  {
   "cell_type": "markdown",
   "id": "de3d5381",
   "metadata": {},
   "source": [
    "# To create the scatter plot based on the above data, you can apply the generic syntax that was introduced at the beginning of this guide. Your full Python code would look like this:"
   ]
  },
  {
   "cell_type": "code",
   "execution_count": 2,
   "id": "23e25229",
   "metadata": {},
   "outputs": [
    {
     "data": {
      "image/png": "[encoded data removed]",
      "text/plain": [
       "<Figure size 432x288 with 1 Axes>"
      ]
     },
     "metadata": {
      "needs_background": "light"
     },
     "output_type": "display_data"
    }
   ],
   "source": [
    "import matplotlib.pyplot as plt\n",
    "   \n",
    "Unemployment_Rate = [6.1,5.8,5.7,5.7,5.8,5.6,5.5,5.3,5.2,5.2]\n",
    "Stock_Index_Price = [1500,1520,1525,1523,1515,1540,1545,1560,1555,1565]\n",
    "  \n",
    "plt.scatter(Unemployment_Rate, Stock_Index_Price, color='green')\n",
    "plt.title('Unemployment Rate Vs Stock Index Price', fontsize=14)\n",
    "plt.xlabel('Unemployment Rate', fontsize=14)\n",
    "plt.ylabel('Stock Index Price', fontsize=14)\n",
    "plt.grid(True)\n",
    "plt.show()"
   ]
  },
  {
   "cell_type": "markdown",
   "id": "ed35376d",
   "metadata": {},
   "source": [
    "# Create Scatter Plot using Pandas DataFrame\n",
    "Another way in which you can capture the data in Python is by using pandas DataFrame."
   ]
  },
  {
   "cell_type": "code",
   "execution_count": 4,
   "id": "15bf4a80",
   "metadata": {},
   "outputs": [
    {
     "data": {
      "text/html": [
       "<div>\n",
       "<style scoped>\n",
       "    .dataframe tbody tr th:only-of-type {\n",
       "        vertical-align: middle;\n",
       "    }\n",
       "\n",
       "    .dataframe tbody tr th {\n",
       "        vertical-align: top;\n",
       "    }\n",
       "\n",
       "    .dataframe thead th {\n",
       "        text-align: right;\n",
       "    }\n",
       "</style>\n",
       "<table border=\"1\" class=\"dataframe\">\n",
       "  <thead>\n",
       "    <tr style=\"text-align: right;\">\n",
       "      <th></th>\n",
       "      <th>Unemployment_Rate</th>\n",
       "      <th>Stock_Index_Price</th>\n",
       "    </tr>\n",
       "  </thead>\n",
       "  <tbody>\n",
       "    <tr>\n",
       "      <th>0</th>\n",
       "      <td>6.1</td>\n",
       "      <td>1500</td>\n",
       "    </tr>\n",
       "    <tr>\n",
       "      <th>1</th>\n",
       "      <td>5.8</td>\n",
       "      <td>1520</td>\n",
       "    </tr>\n",
       "    <tr>\n",
       "      <th>2</th>\n",
       "      <td>5.7</td>\n",
       "      <td>1525</td>\n",
       "    </tr>\n",
       "    <tr>\n",
       "      <th>3</th>\n",
       "      <td>5.7</td>\n",
       "      <td>1523</td>\n",
       "    </tr>\n",
       "    <tr>\n",
       "      <th>4</th>\n",
       "      <td>5.8</td>\n",
       "      <td>1515</td>\n",
       "    </tr>\n",
       "    <tr>\n",
       "      <th>5</th>\n",
       "      <td>5.6</td>\n",
       "      <td>1540</td>\n",
       "    </tr>\n",
       "    <tr>\n",
       "      <th>6</th>\n",
       "      <td>5.5</td>\n",
       "      <td>1545</td>\n",
       "    </tr>\n",
       "    <tr>\n",
       "      <th>7</th>\n",
       "      <td>5.3</td>\n",
       "      <td>1560</td>\n",
       "    </tr>\n",
       "    <tr>\n",
       "      <th>8</th>\n",
       "      <td>5.2</td>\n",
       "      <td>1555</td>\n",
       "    </tr>\n",
       "    <tr>\n",
       "      <th>9</th>\n",
       "      <td>5.2</td>\n",
       "      <td>1565</td>\n",
       "    </tr>\n",
       "  </tbody>\n",
       "</table>\n",
       "</div>"
      ],
      "text/plain": [
       "   Unemployment_Rate  Stock_Index_Price\n",
       "0                6.1               1500\n",
       "1                5.8               1520\n",
       "2                5.7               1525\n",
       "3                5.7               1523\n",
       "4                5.8               1515\n",
       "5                5.6               1540\n",
       "6                5.5               1545\n",
       "7                5.3               1560\n",
       "8                5.2               1555\n",
       "9                5.2               1565"
      ]
     },
     "execution_count": 4,
     "metadata": {},
     "output_type": "execute_result"
    }
   ],
   "source": [
    "from pandas import DataFrame\n",
    "\n",
    "Data = {'Unemployment_Rate': [6.1,5.8,5.7,5.7,5.8,5.6,5.5,5.3,5.2,5.2],\n",
    "        'Stock_Index_Price': [1500,1520,1525,1523,1515,1540,1545,1560,1555,1565]\n",
    "       }\n",
    "  \n",
    "df = DataFrame(Data,columns=['Unemployment_Rate','Stock_Index_Price'])\n",
    "df"
   ]
  },
  {
   "cell_type": "markdown",
   "id": "e8d42c6e",
   "metadata": {},
   "source": [
    "# And here is the full Python code to display the Scatter plot using the DataFrame:"
   ]
  },
  {
   "cell_type": "code",
   "execution_count": 5,
   "id": "b36d108b",
   "metadata": {},
   "outputs": [
    {
     "data": {
      "image/png": "[encoded data removed]",
      "text/plain": [
       "<Figure size 432x288 with 1 Axes>"
      ]
     },
     "metadata": {
      "needs_background": "light"
     },
     "output_type": "display_data"
    }
   ],
   "source": [
    "from pandas import DataFrame\n",
    "import matplotlib.pyplot as plt\n",
    "   \n",
    "Data = {'Unemployment_Rate': [6.1,5.8,5.7,5.7,5.8,5.6,5.5,5.3,5.2,5.2],\n",
    "        'Stock_Index_Price': [1500,1520,1525,1523,1515,1540,1545,1560,1555,1565]\n",
    "       }\n",
    "  \n",
    "df = DataFrame(Data,columns=['Unemployment_Rate','Stock_Index_Price'])\n",
    "  \n",
    "plt.scatter(df['Unemployment_Rate'], df['Stock_Index_Price'], color='green')\n",
    "plt.title('Unemployment Rate Vs Stock Index Price', fontsize=14)\n",
    "plt.xlabel('Unemployment Rate', fontsize=14)\n",
    "plt.ylabel('Stock Index Price', fontsize=14)\n",
    "plt.grid(True)\n",
    "plt.show()"
   ]
  },
  {
   "cell_type": "markdown",
   "id": "89884478",
   "metadata": {},
   "source": [
    "# How to Create Line Charts using Matplotlib"
   ]
  },
  {
   "cell_type": "markdown",
   "id": "774aa90e",
   "metadata": {},
   "source": [
    "# Line charts are often used to display trends overtime.\n",
    "\n",
    "For example, imagine that you want to present the Unemployment Rate across time using the dataset below:\n",
    "\n",
    "Year\tUnemployment_Rate\n",
    "1920\t9.8\n",
    "1930\t12\n",
    "1940\t8\n",
    "1950\t7.2\n",
    "1960\t6.9\n",
    "1970\t7\n",
    "1980\t6.5\n",
    "1990\t6.2\n",
    "2000\t5.5\n",
    "2010\t6.3"
   ]
  },
  {
   "cell_type": "markdown",
   "id": "dbbf9f9e",
   "metadata": {},
   "source": [
    "# Create Line Chart using Lists"
   ]
  },
  {
   "cell_type": "code",
   "execution_count": 6,
   "id": "394c214b",
   "metadata": {},
   "outputs": [],
   "source": [
    "Year = [1920,1930,1940,1950,1960,1970,1980,1990,2000,2010]\n",
    "Unemployment_Rate = [9.8,12,8,7.2,6.9,7,6.5,6.2,5.5,6.3]"
   ]
  },
  {
   "cell_type": "markdown",
   "id": "d09067e4",
   "metadata": {},
   "source": [
    "# Using the Line chart syntax from the beginning of this guide, your full Python code would be:"
   ]
  },
  {
   "cell_type": "code",
   "execution_count": 7,
   "id": "b9ac498c",
   "metadata": {},
   "outputs": [
    {
     "data": {
      "image/png": "[encoded data removed]",
      "text/plain": [
       "<Figure size 432x288 with 1 Axes>"
      ]
     },
     "metadata": {
      "needs_background": "light"
     },
     "output_type": "display_data"
    }
   ],
   "source": [
    "import matplotlib.pyplot as plt\n",
    "   \n",
    "Year = [1920,1930,1940,1950,1960,1970,1980,1990,2000,2010]\n",
    "Unemployment_Rate = [9.8,12,8,7.2,6.9,7,6.5,6.2,5.5,6.3]\n",
    "  \n",
    "plt.plot(Year, Unemployment_Rate, color='red', marker='o')\n",
    "plt.title('Unemployment Rate Vs Year', fontsize=14)\n",
    "plt.xlabel('Year', fontsize=14)\n",
    "plt.ylabel('Unemployment Rate', fontsize=14)\n",
    "plt.grid(True)\n",
    "plt.show()"
   ]
  },
  {
   "cell_type": "markdown",
   "id": "e7658beb",
   "metadata": {},
   "source": [
    "# Create Line Chart using pandas DataFrame\n",
    "The DataFrame, for our example, should look like this:"
   ]
  },
  {
   "cell_type": "code",
   "execution_count": 9,
   "id": "e83677d2",
   "metadata": {},
   "outputs": [
    {
     "data": {
      "text/html": [
       "<div>\n",
       "<style scoped>\n",
       "    .dataframe tbody tr th:only-of-type {\n",
       "        vertical-align: middle;\n",
       "    }\n",
       "\n",
       "    .dataframe tbody tr th {\n",
       "        vertical-align: top;\n",
       "    }\n",
       "\n",
       "    .dataframe thead th {\n",
       "        text-align: right;\n",
       "    }\n",
       "</style>\n",
       "<table border=\"1\" class=\"dataframe\">\n",
       "  <thead>\n",
       "    <tr style=\"text-align: right;\">\n",
       "      <th></th>\n",
       "      <th>Year</th>\n",
       "      <th>Unemployment_Rate</th>\n",
       "    </tr>\n",
       "  </thead>\n",
       "  <tbody>\n",
       "    <tr>\n",
       "      <th>0</th>\n",
       "      <td>1920</td>\n",
       "      <td>9.8</td>\n",
       "    </tr>\n",
       "    <tr>\n",
       "      <th>1</th>\n",
       "      <td>1930</td>\n",
       "      <td>12.0</td>\n",
       "    </tr>\n",
       "    <tr>\n",
       "      <th>2</th>\n",
       "      <td>1940</td>\n",
       "      <td>8.0</td>\n",
       "    </tr>\n",
       "    <tr>\n",
       "      <th>3</th>\n",
       "      <td>1950</td>\n",
       "      <td>7.2</td>\n",
       "    </tr>\n",
       "    <tr>\n",
       "      <th>4</th>\n",
       "      <td>1960</td>\n",
       "      <td>6.9</td>\n",
       "    </tr>\n",
       "    <tr>\n",
       "      <th>5</th>\n",
       "      <td>1970</td>\n",
       "      <td>7.0</td>\n",
       "    </tr>\n",
       "    <tr>\n",
       "      <th>6</th>\n",
       "      <td>1980</td>\n",
       "      <td>6.5</td>\n",
       "    </tr>\n",
       "    <tr>\n",
       "      <th>7</th>\n",
       "      <td>1990</td>\n",
       "      <td>6.2</td>\n",
       "    </tr>\n",
       "    <tr>\n",
       "      <th>8</th>\n",
       "      <td>2000</td>\n",
       "      <td>5.5</td>\n",
       "    </tr>\n",
       "    <tr>\n",
       "      <th>9</th>\n",
       "      <td>2010</td>\n",
       "      <td>6.3</td>\n",
       "    </tr>\n",
       "  </tbody>\n",
       "</table>\n",
       "</div>"
      ],
      "text/plain": [
       "   Year  Unemployment_Rate\n",
       "0  1920                9.8\n",
       "1  1930               12.0\n",
       "2  1940                8.0\n",
       "3  1950                7.2\n",
       "4  1960                6.9\n",
       "5  1970                7.0\n",
       "6  1980                6.5\n",
       "7  1990                6.2\n",
       "8  2000                5.5\n",
       "9  2010                6.3"
      ]
     },
     "execution_count": 9,
     "metadata": {},
     "output_type": "execute_result"
    }
   ],
   "source": [
    "from pandas import DataFrame\n",
    "\n",
    "Data = {'Year': [1920,1930,1940,1950,1960,1970,1980,1990,2000,2010],\n",
    "        'Unemployment_Rate': [9.8,12,8,7.2,6.9,7,6.5,6.2,5.5,6.3]\n",
    "       }\n",
    "  \n",
    "df = DataFrame(Data,columns=['Year','Unemployment_Rate'])\n",
    "df"
   ]
  },
  {
   "cell_type": "markdown",
   "id": "3b9d4ab7",
   "metadata": {},
   "source": [
    "# Putting everything together:"
   ]
  },
  {
   "cell_type": "code",
   "execution_count": 10,
   "id": "bf8ee5a7",
   "metadata": {},
   "outputs": [
    {
     "data": {
      "image/png": "[encoded data removed]",
      "text/plain": [
       "<Figure size 432x288 with 1 Axes>"
      ]
     },
     "metadata": {
      "needs_background": "light"
     },
     "output_type": "display_data"
    }
   ],
   "source": [
    "from pandas import DataFrame\n",
    "import matplotlib.pyplot as plt\n",
    "   \n",
    "Data = {'Year': [1920,1930,1940,1950,1960,1970,1980,1990,2000,2010],\n",
    "        'Unemployment_Rate': [9.8,12,8,7.2,6.9,7,6.5,6.2,5.5,6.3]\n",
    "       }\n",
    "  \n",
    "df = DataFrame(Data,columns=['Year','Unemployment_Rate'])\n",
    "  \n",
    "plt.plot(df['Year'], df['Unemployment_Rate'], color='red', marker='o')\n",
    "plt.title('Unemployment Rate Vs Year', fontsize=14)\n",
    "plt.xlabel('Year', fontsize=14)\n",
    "plt.ylabel('Unemployment Rate', fontsize=14)\n",
    "plt.grid(True)\n",
    "plt.show()"
   ]
  },
  {
   "cell_type": "markdown",
   "id": "3324a66e",
   "metadata": {},
   "source": [
    "# How to Create Bar Charts using Matplotlib\n",
    "Bar charts are used to display categorical data.\n",
    "\n",
    "Let’s say that you want to use a Bar chart to display the GDP Per Capita for a sample of 5 countries:\n",
    "\n",
    "Country\tGDP_Per_Capita\n",
    "USA\t45000\n",
    "Canada\t42000\n",
    "Germany\t52000\n",
    "UK\t49000\n",
    "France\t47000"
   ]
  },
  {
   "cell_type": "markdown",
   "id": "98bccbbe",
   "metadata": {},
   "source": [
    "# Create a Bar chart using Lists\n",
    "First, create the lists as follows:"
   ]
  },
  {
   "cell_type": "code",
   "execution_count": 11,
   "id": "c51a694d",
   "metadata": {},
   "outputs": [],
   "source": [
    "Country = ['USA','Canada','Germany','UK','France']\n",
    "GDP_Per_Capita = [45000,42000,52000,49000,47000]"
   ]
  },
  {
   "cell_type": "markdown",
   "id": "3e34ef1c",
   "metadata": {},
   "source": [
    "# Since our dataset contains both text and numerical values, you’ll need to add the following syntax:"
   ]
  },
  {
   "cell_type": "code",
   "execution_count": 12,
   "id": "7831ac49",
   "metadata": {},
   "outputs": [],
   "source": [
    "xAxis = [i + 0.5 for i, _ in enumerate(Country)]"
   ]
  },
  {
   "cell_type": "markdown",
   "id": "52bef274",
   "metadata": {},
   "source": [
    "# You’ll also need to incorporate the following section when depicting the bar chart:"
   ]
  },
  {
   "cell_type": "code",
   "execution_count": 15,
   "id": "9e17f6f9",
   "metadata": {},
   "outputs": [],
   "source": [
    "#plt.xticks([i + 0.5 for i, _ in enumerate(Country)], Country)"
   ]
  },
  {
   "cell_type": "code",
   "execution_count": 14,
   "id": "dc8e6a28",
   "metadata": {},
   "outputs": [
    {
     "data": {
      "image/png": "[encoded data removed]",
      "text/plain": [
       "<Figure size 432x288 with 1 Axes>"
      ]
     },
     "metadata": {
      "needs_background": "light"
     },
     "output_type": "display_data"
    }
   ],
   "source": [
    "import matplotlib.pyplot as plt\n",
    "   \n",
    "Country = ['USA','Canada','Germany','UK','France']\n",
    "GDP_Per_Capita = [45000,42000,52000,49000,47000]\n",
    "\n",
    "xAxis = [i + 0.5 for i, _ in enumerate(Country)]\n",
    "  \n",
    "plt.bar(xAxis, GDP_Per_Capita, color='teal')\n",
    "plt.title('Country Vs GDP Per Capita', fontsize=14)\n",
    "plt.xlabel('Country', fontsize=14)\n",
    "plt.ylabel('GDP Per Capita', fontsize=14)\n",
    "plt.xticks([i + 0.5 for i, _ in enumerate(Country)], Country)\n",
    "plt.show()"
   ]
  },
  {
   "cell_type": "markdown",
   "id": "0c8971b4",
   "metadata": {},
   "source": [
    "# Create a Bar chart using pandas DataFrame\n",
    "Using pandas DataFrame:"
   ]
  },
  {
   "cell_type": "code",
   "execution_count": 17,
   "id": "f0f05188",
   "metadata": {},
   "outputs": [
    {
     "data": {
      "text/html": [
       "<div>\n",
       "<style scoped>\n",
       "    .dataframe tbody tr th:only-of-type {\n",
       "        vertical-align: middle;\n",
       "    }\n",
       "\n",
       "    .dataframe tbody tr th {\n",
       "        vertical-align: top;\n",
       "    }\n",
       "\n",
       "    .dataframe thead th {\n",
       "        text-align: right;\n",
       "    }\n",
       "</style>\n",
       "<table border=\"1\" class=\"dataframe\">\n",
       "  <thead>\n",
       "    <tr style=\"text-align: right;\">\n",
       "      <th></th>\n",
       "      <th>Country</th>\n",
       "      <th>GDP_Per_Capita</th>\n",
       "    </tr>\n",
       "  </thead>\n",
       "  <tbody>\n",
       "    <tr>\n",
       "      <th>0</th>\n",
       "      <td>USA</td>\n",
       "      <td>45000</td>\n",
       "    </tr>\n",
       "    <tr>\n",
       "      <th>1</th>\n",
       "      <td>Canada</td>\n",
       "      <td>42000</td>\n",
       "    </tr>\n",
       "    <tr>\n",
       "      <th>2</th>\n",
       "      <td>Germany</td>\n",
       "      <td>52000</td>\n",
       "    </tr>\n",
       "    <tr>\n",
       "      <th>3</th>\n",
       "      <td>UK</td>\n",
       "      <td>49000</td>\n",
       "    </tr>\n",
       "    <tr>\n",
       "      <th>4</th>\n",
       "      <td>France</td>\n",
       "      <td>47000</td>\n",
       "    </tr>\n",
       "  </tbody>\n",
       "</table>\n",
       "</div>"
      ],
      "text/plain": [
       "   Country  GDP_Per_Capita\n",
       "0      USA           45000\n",
       "1   Canada           42000\n",
       "2  Germany           52000\n",
       "3       UK           49000\n",
       "4   France           47000"
      ]
     },
     "execution_count": 17,
     "metadata": {},
     "output_type": "execute_result"
    }
   ],
   "source": [
    "from pandas import DataFrame\n",
    "\n",
    "Data = {'Country': ['USA','Canada','Germany','UK','France'],\n",
    "        'GDP_Per_Capita': [45000,42000,52000,49000,47000]\n",
    "       }\n",
    "  \n",
    "df = DataFrame(Data,columns=['Country','GDP_Per_Capita'])\n",
    "df"
   ]
  },
  {
   "cell_type": "markdown",
   "id": "04cf4c64",
   "metadata": {},
   "source": [
    "# And here is the full Python code to create the Bar Chart using the DataFrame:"
   ]
  },
  {
   "cell_type": "code",
   "execution_count": 18,
   "id": "6b4803b4",
   "metadata": {},
   "outputs": [
    {
     "data": {
      "image/png": "[encoded data removed]",
      "text/plain": [
       "<Figure size 432x288 with 1 Axes>"
      ]
     },
     "metadata": {
      "needs_background": "light"
     },
     "output_type": "display_data"
    }
   ],
   "source": [
    "from pandas import DataFrame\n",
    "import matplotlib.pyplot as plt\n",
    "   \n",
    "Data = {'Country': ['USA','Canada','Germany','UK','France'],\n",
    "        'GDP_Per_Capita': [45000,42000,52000,49000,47000]\n",
    "       }\n",
    "  \n",
    "df = DataFrame(Data,columns=['Country','GDP_Per_Capita'])\n",
    "\n",
    "xAxis = [i + 0.5 for i, _ in enumerate(df['Country'])]\n",
    "  \n",
    "plt.bar(xAxis, df['GDP_Per_Capita'].astype(float), color='teal')\n",
    "plt.title('Country Vs GDP Per Capita', fontsize=14)\n",
    "plt.xlabel('Country', fontsize=14)\n",
    "plt.ylabel('GDP Per Capita', fontsize=14)\n",
    "plt.xticks([i + 0.5 for i, _ in enumerate(df['Country'])], df['Country'])\n",
    "plt.show()"
   ]
  },
  {
   "cell_type": "code",
   "execution_count": null,
   "id": "05054202",
   "metadata": {},
   "outputs": [],
   "source": []
  },
  {
   "cell_type": "code",
   "execution_count": null,
   "id": "0e1335e7",
   "metadata": {},
   "outputs": [],
   "source": []
  }
 ],
 "metadata": {
  "kernelspec": {
   "display_name": "Python 3 (ipykernel)",
   "language": "python",
   "name": "python3"
  },
  "language_info": {
   "codemirror_mode": {
    "name": "ipython",
    "version": 3
   },
   "file_extension": ".py",
   "mimetype": "text/x-python",
   "name": "python",
   "nbconvert_exporter": "python",
   "pygments_lexer": "ipython3",
   "version": "3.9.7"
  }
 },
 "nbformat": 4,
 "nbformat_minor": 5
}
